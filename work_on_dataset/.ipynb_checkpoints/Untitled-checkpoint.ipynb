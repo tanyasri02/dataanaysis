{
 "cells": [
  {
   "cell_type": "markdown",
   "metadata": {},
   "source": [
    "# Importing packages"
   ]
  },
  {
   "cell_type": "code",
   "execution_count": 2,
   "metadata": {},
   "outputs": [],
   "source": [
    "import pandas as pd\n",
    "import numpy as np\n",
    "import matplotlib.pyplot as plt"
   ]
  },
  {
   "cell_type": "markdown",
   "metadata": {},
   "source": [
    "# Uploading dateset"
   ]
  },
  {
   "cell_type": "code",
   "execution_count": 6,
   "metadata": {},
   "outputs": [],
   "source": [
    "car_data = pd.read_csv(\"C:/Users/Dell/Desktop/work_on_dataset/dataset.csv\",encoding='ANSI')"
   ]
  },
  {
   "cell_type": "markdown",
   "metadata": {},
   "source": [
    "# Dataset"
   ]
  },
  {
   "cell_type": "code",
   "execution_count": 11,
   "metadata": {},
   "outputs": [
    {
     "data": {
      "text/html": [
       "<div>\n",
       "<style scoped>\n",
       "    .dataframe tbody tr th:only-of-type {\n",
       "        vertical-align: middle;\n",
       "    }\n",
       "\n",
       "    .dataframe tbody tr th {\n",
       "        vertical-align: top;\n",
       "    }\n",
       "\n",
       "    .dataframe thead th {\n",
       "        text-align: right;\n",
       "    }\n",
       "</style>\n",
       "<table border=\"1\" class=\"dataframe\">\n",
       "  <thead>\n",
       "    <tr style=\"text-align: right;\">\n",
       "      <th></th>\n",
       "      <th>id</th>\n",
       "      <th>url</th>\n",
       "      <th>region</th>\n",
       "      <th>region_url</th>\n",
       "      <th>price</th>\n",
       "      <th>year</th>\n",
       "      <th>manufacturer</th>\n",
       "      <th>model</th>\n",
       "      <th>condition</th>\n",
       "      <th>cylinders</th>\n",
       "      <th>...</th>\n",
       "      <th>drive</th>\n",
       "      <th>size</th>\n",
       "      <th>type</th>\n",
       "      <th>paint_color</th>\n",
       "      <th>image_url</th>\n",
       "      <th>description</th>\n",
       "      <th>county</th>\n",
       "      <th>state</th>\n",
       "      <th>lat</th>\n",
       "      <th>long</th>\n",
       "    </tr>\n",
       "  </thead>\n",
       "  <tbody>\n",
       "    <tr>\n",
       "      <th>0</th>\n",
       "      <td>7083353880</td>\n",
       "      <td>https://hattiesburg.craigslist.org/cto/d/mosel...</td>\n",
       "      <td>hattiesburg</td>\n",
       "      <td>https://hattiesburg.craigslist.org</td>\n",
       "      <td>20000</td>\n",
       "      <td>2018.0</td>\n",
       "      <td>nissan</td>\n",
       "      <td>kicks sv</td>\n",
       "      <td>like new</td>\n",
       "      <td>4 cylinders</td>\n",
       "      <td>...</td>\n",
       "      <td>fwd</td>\n",
       "      <td>NaN</td>\n",
       "      <td>NaN</td>\n",
       "      <td>grey</td>\n",
       "      <td>https://images.craigslist.org/00c0c_eCyVB4kIgs...</td>\n",
       "      <td>2018 Nissan Kicks SV for sale. Asking $20,000 ...</td>\n",
       "      <td>NaN</td>\n",
       "      <td>ms</td>\n",
       "      <td>31.4836</td>\n",
       "      <td>-89.3206</td>\n",
       "    </tr>\n",
       "    <tr>\n",
       "      <th>1</th>\n",
       "      <td>7092291959</td>\n",
       "      <td>https://amarillo.craigslist.org/ctd/d/amarillo...</td>\n",
       "      <td>amarillo</td>\n",
       "      <td>https://amarillo.craigslist.org</td>\n",
       "      <td>22995</td>\n",
       "      <td>2014.0</td>\n",
       "      <td>ford</td>\n",
       "      <td>f150</td>\n",
       "      <td>like new</td>\n",
       "      <td>6 cylinders</td>\n",
       "      <td>...</td>\n",
       "      <td>4wd</td>\n",
       "      <td>full-size</td>\n",
       "      <td>pickup</td>\n",
       "      <td>white</td>\n",
       "      <td>https://images.craigslist.org/00y0y_gimprJKpew...</td>\n",
       "      <td>COME AND CHECK OUT THIS 2014 FORD F-150 WITH: ...</td>\n",
       "      <td>NaN</td>\n",
       "      <td>tx</td>\n",
       "      <td>35.1831</td>\n",
       "      <td>-101.8840</td>\n",
       "    </tr>\n",
       "    <tr>\n",
       "      <th>2</th>\n",
       "      <td>7079776839</td>\n",
       "      <td>https://annarbor.craigslist.org/ctd/d/kalamazo...</td>\n",
       "      <td>ann arbor</td>\n",
       "      <td>https://annarbor.craigslist.org</td>\n",
       "      <td>500</td>\n",
       "      <td>2004.0</td>\n",
       "      <td>mazda</td>\n",
       "      <td>rx8</td>\n",
       "      <td>NaN</td>\n",
       "      <td>NaN</td>\n",
       "      <td>...</td>\n",
       "      <td>NaN</td>\n",
       "      <td>NaN</td>\n",
       "      <td>NaN</td>\n",
       "      <td>NaN</td>\n",
       "      <td>https://images.craigslist.org/00x0x_gh8MdK8QDs...</td>\n",
       "      <td>Kalamazoo Online Auction - Wednesday, February...</td>\n",
       "      <td>NaN</td>\n",
       "      <td>mi</td>\n",
       "      <td>42.2736</td>\n",
       "      <td>-85.5457</td>\n",
       "    </tr>\n",
       "    <tr>\n",
       "      <th>3</th>\n",
       "      <td>7079776211</td>\n",
       "      <td>https://annarbor.craigslist.org/ctd/d/chesanin...</td>\n",
       "      <td>ann arbor</td>\n",
       "      <td>https://annarbor.craigslist.org</td>\n",
       "      <td>6995</td>\n",
       "      <td>2011.0</td>\n",
       "      <td>gmc</td>\n",
       "      <td>acadia</td>\n",
       "      <td>NaN</td>\n",
       "      <td>NaN</td>\n",
       "      <td>...</td>\n",
       "      <td>NaN</td>\n",
       "      <td>NaN</td>\n",
       "      <td>NaN</td>\n",
       "      <td>NaN</td>\n",
       "      <td>https://images.craigslist.org/00R0R_j2SH54tMqk...</td>\n",
       "      <td>WE HAVE OVER 500 VEHICLES IN STOCK!   See our ...</td>\n",
       "      <td>NaN</td>\n",
       "      <td>mi</td>\n",
       "      <td>43.1824</td>\n",
       "      <td>-84.1122</td>\n",
       "    </tr>\n",
       "    <tr>\n",
       "      <th>4</th>\n",
       "      <td>7083335576</td>\n",
       "      <td>https://hattiesburg.craigslist.org/ctd/d/look-...</td>\n",
       "      <td>hattiesburg</td>\n",
       "      <td>https://hattiesburg.craigslist.org</td>\n",
       "      <td>0</td>\n",
       "      <td>2010.0</td>\n",
       "      <td>ford</td>\n",
       "      <td>f150</td>\n",
       "      <td>excellent</td>\n",
       "      <td>8 cylinders</td>\n",
       "      <td>...</td>\n",
       "      <td>rwd</td>\n",
       "      <td>NaN</td>\n",
       "      <td>truck</td>\n",
       "      <td>NaN</td>\n",
       "      <td>https://images.craigslist.org/00y0y_10KewVDUxW...</td>\n",
       "      <td>985-626-1948 or 504-453-7844  Look at our webs...</td>\n",
       "      <td>NaN</td>\n",
       "      <td>ms</td>\n",
       "      <td>30.3220</td>\n",
       "      <td>-89.9297</td>\n",
       "    </tr>\n",
       "    <tr>\n",
       "      <th>5</th>\n",
       "      <td>7090793155</td>\n",
       "      <td>https://southjersey.craigslist.org/ctd/d/south...</td>\n",
       "      <td>south jersey</td>\n",
       "      <td>https://southjersey.craigslist.org</td>\n",
       "      <td>31999</td>\n",
       "      <td>2012.0</td>\n",
       "      <td>ford</td>\n",
       "      <td>f 450</td>\n",
       "      <td>NaN</td>\n",
       "      <td>NaN</td>\n",
       "      <td>...</td>\n",
       "      <td>NaN</td>\n",
       "      <td>NaN</td>\n",
       "      <td>NaN</td>\n",
       "      <td>NaN</td>\n",
       "      <td>https://images.craigslist.org/01010_aCHYj6ehum...</td>\n",
       "      <td>PHOENIX TRUXX (Truck Country) Vehicle Descript...</td>\n",
       "      <td>NaN</td>\n",
       "      <td>nj</td>\n",
       "      <td>40.4640</td>\n",
       "      <td>-74.2742</td>\n",
       "    </tr>\n",
       "    <tr>\n",
       "      <th>6</th>\n",
       "      <td>7090785092</td>\n",
       "      <td>https://southjersey.craigslist.org/ctd/d/farmi...</td>\n",
       "      <td>south jersey</td>\n",
       "      <td>https://southjersey.craigslist.org</td>\n",
       "      <td>25995</td>\n",
       "      <td>2016.0</td>\n",
       "      <td>jeep</td>\n",
       "      <td>wrangler unlimited</td>\n",
       "      <td>NaN</td>\n",
       "      <td>NaN</td>\n",
       "      <td>...</td>\n",
       "      <td>NaN</td>\n",
       "      <td>NaN</td>\n",
       "      <td>NaN</td>\n",
       "      <td>NaN</td>\n",
       "      <td>https://images.craigslist.org/00A0A_gtMclEe7Xb...</td>\n",
       "      <td>2016 Jeep Wrangler Unlimited CALL Automotive A...</td>\n",
       "      <td>NaN</td>\n",
       "      <td>nj</td>\n",
       "      <td>40.2043</td>\n",
       "      <td>-74.1779</td>\n",
       "    </tr>\n",
       "    <tr>\n",
       "      <th>7</th>\n",
       "      <td>7079774914</td>\n",
       "      <td>https://annarbor.craigslist.org/ctd/d/chesanin...</td>\n",
       "      <td>ann arbor</td>\n",
       "      <td>https://annarbor.craigslist.org</td>\n",
       "      <td>6495</td>\n",
       "      <td>2009.0</td>\n",
       "      <td>gmc</td>\n",
       "      <td>acadia</td>\n",
       "      <td>NaN</td>\n",
       "      <td>NaN</td>\n",
       "      <td>...</td>\n",
       "      <td>NaN</td>\n",
       "      <td>NaN</td>\n",
       "      <td>NaN</td>\n",
       "      <td>NaN</td>\n",
       "      <td>https://images.craigslist.org/00M0M_cNm60PrUQB...</td>\n",
       "      <td>WE HAVE OVER 500 VEHICLES IN STOCK!   See our ...</td>\n",
       "      <td>NaN</td>\n",
       "      <td>mi</td>\n",
       "      <td>43.1824</td>\n",
       "      <td>-84.1122</td>\n",
       "    </tr>\n",
       "    <tr>\n",
       "      <th>8</th>\n",
       "      <td>7083312994</td>\n",
       "      <td>https://hattiesburg.craigslist.org/ctd/d/semin...</td>\n",
       "      <td>hattiesburg</td>\n",
       "      <td>https://hattiesburg.craigslist.org</td>\n",
       "      <td>9995</td>\n",
       "      <td>1994.0</td>\n",
       "      <td>NaN</td>\n",
       "      <td>ISUZU TROOPER BIGHORN</td>\n",
       "      <td>excellent</td>\n",
       "      <td>4 cylinders</td>\n",
       "      <td>...</td>\n",
       "      <td>4wd</td>\n",
       "      <td>mid-size</td>\n",
       "      <td>SUV</td>\n",
       "      <td>black</td>\n",
       "      <td>https://images.craigslist.org/00b0b_cfDqsZWr48...</td>\n",
       "      <td>1994 ISUZU 4X4 TURBO DIESEL TROOPER BIGHORN SU...</td>\n",
       "      <td>NaN</td>\n",
       "      <td>ms</td>\n",
       "      <td>31.5621</td>\n",
       "      <td>-89.5124</td>\n",
       "    </tr>\n",
       "    <tr>\n",
       "      <th>9</th>\n",
       "      <td>7079733859</td>\n",
       "      <td>https://annarbor.craigslist.org/cto/d/ann-arbo...</td>\n",
       "      <td>ann arbor</td>\n",
       "      <td>https://annarbor.craigslist.org</td>\n",
       "      <td>3000</td>\n",
       "      <td>2009.0</td>\n",
       "      <td>chrysler</td>\n",
       "      <td>pt cruiser</td>\n",
       "      <td>excellent</td>\n",
       "      <td>4 cylinders</td>\n",
       "      <td>...</td>\n",
       "      <td>NaN</td>\n",
       "      <td>compact</td>\n",
       "      <td>other</td>\n",
       "      <td>red</td>\n",
       "      <td>https://images.craigslist.org/01616_eMUyfli97p...</td>\n",
       "      <td>Vehicle is clean, no cosmetic damage and no ma...</td>\n",
       "      <td>NaN</td>\n",
       "      <td>mi</td>\n",
       "      <td>42.2922</td>\n",
       "      <td>-83.7763</td>\n",
       "    </tr>\n",
       "  </tbody>\n",
       "</table>\n",
       "<p>10 rows × 25 columns</p>\n",
       "</div>"
      ],
      "text/plain": [
       "           id                                                url  \\\n",
       "0  7083353880  https://hattiesburg.craigslist.org/cto/d/mosel...   \n",
       "1  7092291959  https://amarillo.craigslist.org/ctd/d/amarillo...   \n",
       "2  7079776839  https://annarbor.craigslist.org/ctd/d/kalamazo...   \n",
       "3  7079776211  https://annarbor.craigslist.org/ctd/d/chesanin...   \n",
       "4  7083335576  https://hattiesburg.craigslist.org/ctd/d/look-...   \n",
       "5  7090793155  https://southjersey.craigslist.org/ctd/d/south...   \n",
       "6  7090785092  https://southjersey.craigslist.org/ctd/d/farmi...   \n",
       "7  7079774914  https://annarbor.craigslist.org/ctd/d/chesanin...   \n",
       "8  7083312994  https://hattiesburg.craigslist.org/ctd/d/semin...   \n",
       "9  7079733859  https://annarbor.craigslist.org/cto/d/ann-arbo...   \n",
       "\n",
       "         region                          region_url  price    year  \\\n",
       "0   hattiesburg  https://hattiesburg.craigslist.org  20000  2018.0   \n",
       "1      amarillo     https://amarillo.craigslist.org  22995  2014.0   \n",
       "2     ann arbor     https://annarbor.craigslist.org    500  2004.0   \n",
       "3     ann arbor     https://annarbor.craigslist.org   6995  2011.0   \n",
       "4   hattiesburg  https://hattiesburg.craigslist.org      0  2010.0   \n",
       "5  south jersey  https://southjersey.craigslist.org  31999  2012.0   \n",
       "6  south jersey  https://southjersey.craigslist.org  25995  2016.0   \n",
       "7     ann arbor     https://annarbor.craigslist.org   6495  2009.0   \n",
       "8   hattiesburg  https://hattiesburg.craigslist.org   9995  1994.0   \n",
       "9     ann arbor     https://annarbor.craigslist.org   3000  2009.0   \n",
       "\n",
       "  manufacturer                  model  condition    cylinders  ... drive  \\\n",
       "0       nissan               kicks sv   like new  4 cylinders  ...   fwd   \n",
       "1         ford                   f150   like new  6 cylinders  ...   4wd   \n",
       "2        mazda                    rx8        NaN          NaN  ...   NaN   \n",
       "3          gmc                 acadia        NaN          NaN  ...   NaN   \n",
       "4         ford                   f150  excellent  8 cylinders  ...   rwd   \n",
       "5         ford                  f 450        NaN          NaN  ...   NaN   \n",
       "6         jeep     wrangler unlimited        NaN          NaN  ...   NaN   \n",
       "7          gmc                 acadia        NaN          NaN  ...   NaN   \n",
       "8          NaN  ISUZU TROOPER BIGHORN  excellent  4 cylinders  ...   4wd   \n",
       "9     chrysler             pt cruiser  excellent  4 cylinders  ...   NaN   \n",
       "\n",
       "        size    type paint_color  \\\n",
       "0        NaN     NaN        grey   \n",
       "1  full-size  pickup       white   \n",
       "2        NaN     NaN         NaN   \n",
       "3        NaN     NaN         NaN   \n",
       "4        NaN   truck         NaN   \n",
       "5        NaN     NaN         NaN   \n",
       "6        NaN     NaN         NaN   \n",
       "7        NaN     NaN         NaN   \n",
       "8   mid-size     SUV       black   \n",
       "9    compact   other         red   \n",
       "\n",
       "                                           image_url  \\\n",
       "0  https://images.craigslist.org/00c0c_eCyVB4kIgs...   \n",
       "1  https://images.craigslist.org/00y0y_gimprJKpew...   \n",
       "2  https://images.craigslist.org/00x0x_gh8MdK8QDs...   \n",
       "3  https://images.craigslist.org/00R0R_j2SH54tMqk...   \n",
       "4  https://images.craigslist.org/00y0y_10KewVDUxW...   \n",
       "5  https://images.craigslist.org/01010_aCHYj6ehum...   \n",
       "6  https://images.craigslist.org/00A0A_gtMclEe7Xb...   \n",
       "7  https://images.craigslist.org/00M0M_cNm60PrUQB...   \n",
       "8  https://images.craigslist.org/00b0b_cfDqsZWr48...   \n",
       "9  https://images.craigslist.org/01616_eMUyfli97p...   \n",
       "\n",
       "                                         description county state      lat  \\\n",
       "0  2018 Nissan Kicks SV for sale. Asking $20,000 ...    NaN    ms  31.4836   \n",
       "1  COME AND CHECK OUT THIS 2014 FORD F-150 WITH: ...    NaN    tx  35.1831   \n",
       "2  Kalamazoo Online Auction - Wednesday, February...    NaN    mi  42.2736   \n",
       "3  WE HAVE OVER 500 VEHICLES IN STOCK!   See our ...    NaN    mi  43.1824   \n",
       "4  985-626-1948 or 504-453-7844  Look at our webs...    NaN    ms  30.3220   \n",
       "5  PHOENIX TRUXX (Truck Country) Vehicle Descript...    NaN    nj  40.4640   \n",
       "6  2016 Jeep Wrangler Unlimited CALL Automotive A...    NaN    nj  40.2043   \n",
       "7  WE HAVE OVER 500 VEHICLES IN STOCK!   See our ...    NaN    mi  43.1824   \n",
       "8  1994 ISUZU 4X4 TURBO DIESEL TROOPER BIGHORN SU...    NaN    ms  31.5621   \n",
       "9  Vehicle is clean, no cosmetic damage and no ma...    NaN    mi  42.2922   \n",
       "\n",
       "       long  \n",
       "0  -89.3206  \n",
       "1 -101.8840  \n",
       "2  -85.5457  \n",
       "3  -84.1122  \n",
       "4  -89.9297  \n",
       "5  -74.2742  \n",
       "6  -74.1779  \n",
       "7  -84.1122  \n",
       "8  -89.5124  \n",
       "9  -83.7763  \n",
       "\n",
       "[10 rows x 25 columns]"
      ]
     },
     "execution_count": 11,
     "metadata": {},
     "output_type": "execute_result"
    }
   ],
   "source": [
    "car_data.head(10)\n",
    "#this helped me to check the dataset till 10 rows"
   ]
  },
  {
   "cell_type": "markdown",
   "metadata": {},
   "source": [
    "# Describe the data in multiple way"
   ]
  },
  {
   "cell_type": "code",
   "execution_count": 9,
   "metadata": {},
   "outputs": [
    {
     "data": {
      "text/html": [
       "<div>\n",
       "<style scoped>\n",
       "    .dataframe tbody tr th:only-of-type {\n",
       "        vertical-align: middle;\n",
       "    }\n",
       "\n",
       "    .dataframe tbody tr th {\n",
       "        vertical-align: top;\n",
       "    }\n",
       "\n",
       "    .dataframe thead th {\n",
       "        text-align: right;\n",
       "    }\n",
       "</style>\n",
       "<table border=\"1\" class=\"dataframe\">\n",
       "  <thead>\n",
       "    <tr style=\"text-align: right;\">\n",
       "      <th></th>\n",
       "      <th>id</th>\n",
       "      <th>price</th>\n",
       "      <th>year</th>\n",
       "      <th>odometer</th>\n",
       "      <th>county</th>\n",
       "      <th>lat</th>\n",
       "      <th>long</th>\n",
       "    </tr>\n",
       "  </thead>\n",
       "  <tbody>\n",
       "    <tr>\n",
       "      <th>count</th>\n",
       "      <td>1.504400e+04</td>\n",
       "      <td>1.504400e+04</td>\n",
       "      <td>15025.000000</td>\n",
       "      <td>1.204800e+04</td>\n",
       "      <td>0.0</td>\n",
       "      <td>14884.000000</td>\n",
       "      <td>14884.000000</td>\n",
       "    </tr>\n",
       "    <tr>\n",
       "      <th>mean</th>\n",
       "      <td>7.087122e+09</td>\n",
       "      <td>9.480599e+04</td>\n",
       "      <td>2009.586423</td>\n",
       "      <td>1.025477e+05</td>\n",
       "      <td>NaN</td>\n",
       "      <td>38.078654</td>\n",
       "      <td>-93.995271</td>\n",
       "    </tr>\n",
       "    <tr>\n",
       "      <th>std</th>\n",
       "      <td>5.555802e+06</td>\n",
       "      <td>1.006536e+07</td>\n",
       "      <td>8.926663</td>\n",
       "      <td>7.909139e+04</td>\n",
       "      <td>NaN</td>\n",
       "      <td>5.193206</td>\n",
       "      <td>13.140880</td>\n",
       "    </tr>\n",
       "    <tr>\n",
       "      <th>min</th>\n",
       "      <td>7.074429e+09</td>\n",
       "      <td>0.000000e+00</td>\n",
       "      <td>1900.000000</td>\n",
       "      <td>0.000000e+00</td>\n",
       "      <td>NaN</td>\n",
       "      <td>-41.920700</td>\n",
       "      <td>-124.498000</td>\n",
       "    </tr>\n",
       "    <tr>\n",
       "      <th>25%</th>\n",
       "      <td>7.084286e+09</td>\n",
       "      <td>4.500000e+03</td>\n",
       "      <td>2007.000000</td>\n",
       "      <td>5.189600e+04</td>\n",
       "      <td>NaN</td>\n",
       "      <td>34.867275</td>\n",
       "      <td>-104.955000</td>\n",
       "    </tr>\n",
       "    <tr>\n",
       "      <th>50%</th>\n",
       "      <td>7.088505e+09</td>\n",
       "      <td>9.500000e+03</td>\n",
       "      <td>2011.000000</td>\n",
       "      <td>9.724000e+04</td>\n",
       "      <td>NaN</td>\n",
       "      <td>39.578800</td>\n",
       "      <td>-95.825100</td>\n",
       "    </tr>\n",
       "    <tr>\n",
       "      <th>75%</th>\n",
       "      <td>7.091552e+09</td>\n",
       "      <td>1.799000e+04</td>\n",
       "      <td>2015.000000</td>\n",
       "      <td>1.400000e+05</td>\n",
       "      <td>NaN</td>\n",
       "      <td>41.585175</td>\n",
       "      <td>-82.989500</td>\n",
       "    </tr>\n",
       "    <tr>\n",
       "      <th>max</th>\n",
       "      <td>7.093530e+09</td>\n",
       "      <td>1.234568e+09</td>\n",
       "      <td>2020.000000</td>\n",
       "      <td>2.727000e+06</td>\n",
       "      <td>NaN</td>\n",
       "      <td>48.937200</td>\n",
       "      <td>-1.976170</td>\n",
       "    </tr>\n",
       "  </tbody>\n",
       "</table>\n",
       "</div>"
      ],
      "text/plain": [
       "                 id         price          year      odometer  county  \\\n",
       "count  1.504400e+04  1.504400e+04  15025.000000  1.204800e+04     0.0   \n",
       "mean   7.087122e+09  9.480599e+04   2009.586423  1.025477e+05     NaN   \n",
       "std    5.555802e+06  1.006536e+07      8.926663  7.909139e+04     NaN   \n",
       "min    7.074429e+09  0.000000e+00   1900.000000  0.000000e+00     NaN   \n",
       "25%    7.084286e+09  4.500000e+03   2007.000000  5.189600e+04     NaN   \n",
       "50%    7.088505e+09  9.500000e+03   2011.000000  9.724000e+04     NaN   \n",
       "75%    7.091552e+09  1.799000e+04   2015.000000  1.400000e+05     NaN   \n",
       "max    7.093530e+09  1.234568e+09   2020.000000  2.727000e+06     NaN   \n",
       "\n",
       "                lat          long  \n",
       "count  14884.000000  14884.000000  \n",
       "mean      38.078654    -93.995271  \n",
       "std        5.193206     13.140880  \n",
       "min      -41.920700   -124.498000  \n",
       "25%       34.867275   -104.955000  \n",
       "50%       39.578800    -95.825100  \n",
       "75%       41.585175    -82.989500  \n",
       "max       48.937200     -1.976170  "
      ]
     },
     "execution_count": 9,
     "metadata": {},
     "output_type": "execute_result"
    }
   ],
   "source": [
    "car_data.describe()"
   ]
  },
  {
   "cell_type": "markdown",
   "metadata": {},
   "source": [
    "# Remove the insignificant columns"
   ]
  },
  {
   "cell_type": "code",
   "execution_count": 12,
   "metadata": {},
   "outputs": [],
   "source": [
    "car_data.drop(['url','id','region_url','image_url','county','state','lat','long'],axis='columns',inplace=True)\n",
    "#remove all unnecessary data from dataset"
   ]
  },
  {
   "cell_type": "markdown",
   "metadata": {},
   "source": [
    "# Names of all column present after removing insignificant columns"
   ]
  },
  {
   "cell_type": "code",
   "execution_count": 13,
   "metadata": {},
   "outputs": [
    {
     "data": {
      "text/plain": [
       "Index(['region', 'price', 'year', 'manufacturer', 'model', 'condition',\n",
       "       'cylinders', 'fuel', 'odometer', 'title_status', 'transmission', 'vin',\n",
       "       'drive', 'size', 'type', 'paint_color', 'description'],\n",
       "      dtype='object')"
      ]
     },
     "execution_count": 13,
     "metadata": {},
     "output_type": "execute_result"
    }
   ],
   "source": [
    "car_data.columns\n",
    "#checking the columns left"
   ]
  },
  {
   "cell_type": "markdown",
   "metadata": {},
   "source": [
    "# Remove all duplicates"
   ]
  },
  {
   "cell_type": "code",
   "execution_count": 14,
   "metadata": {},
   "outputs": [
    {
     "data": {
      "text/html": [
       "<div>\n",
       "<style scoped>\n",
       "    .dataframe tbody tr th:only-of-type {\n",
       "        vertical-align: middle;\n",
       "    }\n",
       "\n",
       "    .dataframe tbody tr th {\n",
       "        vertical-align: top;\n",
       "    }\n",
       "\n",
       "    .dataframe thead th {\n",
       "        text-align: right;\n",
       "    }\n",
       "</style>\n",
       "<table border=\"1\" class=\"dataframe\">\n",
       "  <thead>\n",
       "    <tr style=\"text-align: right;\">\n",
       "      <th></th>\n",
       "      <th>region</th>\n",
       "      <th>price</th>\n",
       "      <th>year</th>\n",
       "      <th>manufacturer</th>\n",
       "      <th>model</th>\n",
       "      <th>condition</th>\n",
       "      <th>cylinders</th>\n",
       "      <th>fuel</th>\n",
       "      <th>odometer</th>\n",
       "      <th>title_status</th>\n",
       "      <th>transmission</th>\n",
       "      <th>vin</th>\n",
       "      <th>drive</th>\n",
       "      <th>size</th>\n",
       "      <th>type</th>\n",
       "      <th>paint_color</th>\n",
       "      <th>description</th>\n",
       "    </tr>\n",
       "  </thead>\n",
       "  <tbody>\n",
       "    <tr>\n",
       "      <th>0</th>\n",
       "      <td>hattiesburg</td>\n",
       "      <td>20000</td>\n",
       "      <td>2018.0</td>\n",
       "      <td>nissan</td>\n",
       "      <td>kicks sv</td>\n",
       "      <td>like new</td>\n",
       "      <td>4 cylinders</td>\n",
       "      <td>gas</td>\n",
       "      <td>28500.0</td>\n",
       "      <td>clean</td>\n",
       "      <td>automatic</td>\n",
       "      <td>3N1CP5CUXJL535638</td>\n",
       "      <td>fwd</td>\n",
       "      <td>NaN</td>\n",
       "      <td>NaN</td>\n",
       "      <td>grey</td>\n",
       "      <td>2018 Nissan Kicks SV for sale. Asking $20,000 ...</td>\n",
       "    </tr>\n",
       "    <tr>\n",
       "      <th>1</th>\n",
       "      <td>amarillo</td>\n",
       "      <td>22995</td>\n",
       "      <td>2014.0</td>\n",
       "      <td>ford</td>\n",
       "      <td>f150</td>\n",
       "      <td>like new</td>\n",
       "      <td>6 cylinders</td>\n",
       "      <td>gas</td>\n",
       "      <td>116646.0</td>\n",
       "      <td>clean</td>\n",
       "      <td>automatic</td>\n",
       "      <td>NaN</td>\n",
       "      <td>4wd</td>\n",
       "      <td>full-size</td>\n",
       "      <td>pickup</td>\n",
       "      <td>white</td>\n",
       "      <td>COME AND CHECK OUT THIS 2014 FORD F-150 WITH: ...</td>\n",
       "    </tr>\n",
       "    <tr>\n",
       "      <th>2</th>\n",
       "      <td>ann arbor</td>\n",
       "      <td>500</td>\n",
       "      <td>2004.0</td>\n",
       "      <td>mazda</td>\n",
       "      <td>rx8</td>\n",
       "      <td>NaN</td>\n",
       "      <td>NaN</td>\n",
       "      <td>gas</td>\n",
       "      <td>NaN</td>\n",
       "      <td>clean</td>\n",
       "      <td>manual</td>\n",
       "      <td>NaN</td>\n",
       "      <td>NaN</td>\n",
       "      <td>NaN</td>\n",
       "      <td>NaN</td>\n",
       "      <td>NaN</td>\n",
       "      <td>Kalamazoo Online Auction - Wednesday, February...</td>\n",
       "    </tr>\n",
       "    <tr>\n",
       "      <th>3</th>\n",
       "      <td>ann arbor</td>\n",
       "      <td>6995</td>\n",
       "      <td>2011.0</td>\n",
       "      <td>gmc</td>\n",
       "      <td>acadia</td>\n",
       "      <td>NaN</td>\n",
       "      <td>NaN</td>\n",
       "      <td>gas</td>\n",
       "      <td>153355.0</td>\n",
       "      <td>clean</td>\n",
       "      <td>automatic</td>\n",
       "      <td>1GKKRSED9BJ216419</td>\n",
       "      <td>NaN</td>\n",
       "      <td>NaN</td>\n",
       "      <td>NaN</td>\n",
       "      <td>NaN</td>\n",
       "      <td>WE HAVE OVER 500 VEHICLES IN STOCK!   See our ...</td>\n",
       "    </tr>\n",
       "    <tr>\n",
       "      <th>4</th>\n",
       "      <td>hattiesburg</td>\n",
       "      <td>0</td>\n",
       "      <td>2010.0</td>\n",
       "      <td>ford</td>\n",
       "      <td>f150</td>\n",
       "      <td>excellent</td>\n",
       "      <td>8 cylinders</td>\n",
       "      <td>gas</td>\n",
       "      <td>NaN</td>\n",
       "      <td>clean</td>\n",
       "      <td>automatic</td>\n",
       "      <td>NaN</td>\n",
       "      <td>rwd</td>\n",
       "      <td>NaN</td>\n",
       "      <td>truck</td>\n",
       "      <td>NaN</td>\n",
       "      <td>985-626-1948 or 504-453-7844  Look at our webs...</td>\n",
       "    </tr>\n",
       "  </tbody>\n",
       "</table>\n",
       "</div>"
      ],
      "text/plain": [
       "        region  price    year manufacturer     model  condition    cylinders  \\\n",
       "0  hattiesburg  20000  2018.0       nissan  kicks sv   like new  4 cylinders   \n",
       "1     amarillo  22995  2014.0         ford      f150   like new  6 cylinders   \n",
       "2    ann arbor    500  2004.0        mazda       rx8        NaN          NaN   \n",
       "3    ann arbor   6995  2011.0          gmc    acadia        NaN          NaN   \n",
       "4  hattiesburg      0  2010.0         ford      f150  excellent  8 cylinders   \n",
       "\n",
       "  fuel  odometer title_status transmission                vin drive  \\\n",
       "0  gas   28500.0        clean    automatic  3N1CP5CUXJL535638   fwd   \n",
       "1  gas  116646.0        clean    automatic                NaN   4wd   \n",
       "2  gas       NaN        clean       manual                NaN   NaN   \n",
       "3  gas  153355.0        clean    automatic  1GKKRSED9BJ216419   NaN   \n",
       "4  gas       NaN        clean    automatic                NaN   rwd   \n",
       "\n",
       "        size    type paint_color  \\\n",
       "0        NaN     NaN        grey   \n",
       "1  full-size  pickup       white   \n",
       "2        NaN     NaN         NaN   \n",
       "3        NaN     NaN         NaN   \n",
       "4        NaN   truck         NaN   \n",
       "\n",
       "                                         description  \n",
       "0  2018 Nissan Kicks SV for sale. Asking $20,000 ...  \n",
       "1  COME AND CHECK OUT THIS 2014 FORD F-150 WITH: ...  \n",
       "2  Kalamazoo Online Auction - Wednesday, February...  \n",
       "3  WE HAVE OVER 500 VEHICLES IN STOCK!   See our ...  \n",
       "4  985-626-1948 or 504-453-7844  Look at our webs...  "
      ]
     },
     "execution_count": 14,
     "metadata": {},
     "output_type": "execute_result"
    }
   ],
   "source": [
    "car_data_dup=car_data.drop_duplicates()\n",
    "car_data_dup.head()"
   ]
  },
  {
   "cell_type": "markdown",
   "metadata": {},
   "source": [
    "# Remove outliners"
   ]
  },
  {
   "cell_type": "code",
   "execution_count": 15,
   "metadata": {},
   "outputs": [
    {
     "data": {
      "text/html": [
       "<div>\n",
       "<style scoped>\n",
       "    .dataframe tbody tr th:only-of-type {\n",
       "        vertical-align: middle;\n",
       "    }\n",
       "\n",
       "    .dataframe tbody tr th {\n",
       "        vertical-align: top;\n",
       "    }\n",
       "\n",
       "    .dataframe thead th {\n",
       "        text-align: right;\n",
       "    }\n",
       "</style>\n",
       "<table border=\"1\" class=\"dataframe\">\n",
       "  <thead>\n",
       "    <tr style=\"text-align: right;\">\n",
       "      <th></th>\n",
       "      <th>region</th>\n",
       "      <th>price</th>\n",
       "      <th>year</th>\n",
       "      <th>manufacturer</th>\n",
       "      <th>model</th>\n",
       "      <th>condition</th>\n",
       "      <th>cylinders</th>\n",
       "      <th>fuel</th>\n",
       "      <th>odometer</th>\n",
       "      <th>title_status</th>\n",
       "      <th>transmission</th>\n",
       "      <th>vin</th>\n",
       "      <th>drive</th>\n",
       "      <th>size</th>\n",
       "      <th>type</th>\n",
       "      <th>paint_color</th>\n",
       "      <th>description</th>\n",
       "    </tr>\n",
       "  </thead>\n",
       "  <tbody>\n",
       "    <tr>\n",
       "      <th>0</th>\n",
       "      <td>hattiesburg</td>\n",
       "      <td>20000</td>\n",
       "      <td>2018.0</td>\n",
       "      <td>nissan</td>\n",
       "      <td>kicks sv</td>\n",
       "      <td>like new</td>\n",
       "      <td>4 cylinders</td>\n",
       "      <td>gas</td>\n",
       "      <td>28500.0</td>\n",
       "      <td>clean</td>\n",
       "      <td>automatic</td>\n",
       "      <td>3N1CP5CUXJL535638</td>\n",
       "      <td>fwd</td>\n",
       "      <td>NaN</td>\n",
       "      <td>NaN</td>\n",
       "      <td>grey</td>\n",
       "      <td>2018 Nissan Kicks SV for sale. Asking $20,000 ...</td>\n",
       "    </tr>\n",
       "    <tr>\n",
       "      <th>1</th>\n",
       "      <td>amarillo</td>\n",
       "      <td>22995</td>\n",
       "      <td>2014.0</td>\n",
       "      <td>ford</td>\n",
       "      <td>f150</td>\n",
       "      <td>like new</td>\n",
       "      <td>6 cylinders</td>\n",
       "      <td>gas</td>\n",
       "      <td>116646.0</td>\n",
       "      <td>clean</td>\n",
       "      <td>automatic</td>\n",
       "      <td>NaN</td>\n",
       "      <td>4wd</td>\n",
       "      <td>full-size</td>\n",
       "      <td>pickup</td>\n",
       "      <td>white</td>\n",
       "      <td>COME AND CHECK OUT THIS 2014 FORD F-150 WITH: ...</td>\n",
       "    </tr>\n",
       "    <tr>\n",
       "      <th>2</th>\n",
       "      <td>ann arbor</td>\n",
       "      <td>500</td>\n",
       "      <td>2004.0</td>\n",
       "      <td>mazda</td>\n",
       "      <td>rx8</td>\n",
       "      <td>NaN</td>\n",
       "      <td>NaN</td>\n",
       "      <td>gas</td>\n",
       "      <td>NaN</td>\n",
       "      <td>clean</td>\n",
       "      <td>manual</td>\n",
       "      <td>NaN</td>\n",
       "      <td>NaN</td>\n",
       "      <td>NaN</td>\n",
       "      <td>NaN</td>\n",
       "      <td>NaN</td>\n",
       "      <td>Kalamazoo Online Auction - Wednesday, February...</td>\n",
       "    </tr>\n",
       "    <tr>\n",
       "      <th>3</th>\n",
       "      <td>ann arbor</td>\n",
       "      <td>6995</td>\n",
       "      <td>2011.0</td>\n",
       "      <td>gmc</td>\n",
       "      <td>acadia</td>\n",
       "      <td>NaN</td>\n",
       "      <td>NaN</td>\n",
       "      <td>gas</td>\n",
       "      <td>153355.0</td>\n",
       "      <td>clean</td>\n",
       "      <td>automatic</td>\n",
       "      <td>1GKKRSED9BJ216419</td>\n",
       "      <td>NaN</td>\n",
       "      <td>NaN</td>\n",
       "      <td>NaN</td>\n",
       "      <td>NaN</td>\n",
       "      <td>WE HAVE OVER 500 VEHICLES IN STOCK!   See our ...</td>\n",
       "    </tr>\n",
       "    <tr>\n",
       "      <th>5</th>\n",
       "      <td>south jersey</td>\n",
       "      <td>31999</td>\n",
       "      <td>2012.0</td>\n",
       "      <td>ford</td>\n",
       "      <td>f 450</td>\n",
       "      <td>NaN</td>\n",
       "      <td>NaN</td>\n",
       "      <td>diesel</td>\n",
       "      <td>NaN</td>\n",
       "      <td>clean</td>\n",
       "      <td>automatic</td>\n",
       "      <td>NaN</td>\n",
       "      <td>NaN</td>\n",
       "      <td>NaN</td>\n",
       "      <td>NaN</td>\n",
       "      <td>NaN</td>\n",
       "      <td>PHOENIX TRUXX (Truck Country) Vehicle Descript...</td>\n",
       "    </tr>\n",
       "  </tbody>\n",
       "</table>\n",
       "</div>"
      ],
      "text/plain": [
       "         region  price    year manufacturer     model condition    cylinders  \\\n",
       "0   hattiesburg  20000  2018.0       nissan  kicks sv  like new  4 cylinders   \n",
       "1      amarillo  22995  2014.0         ford      f150  like new  6 cylinders   \n",
       "2     ann arbor    500  2004.0        mazda       rx8       NaN          NaN   \n",
       "3     ann arbor   6995  2011.0          gmc    acadia       NaN          NaN   \n",
       "5  south jersey  31999  2012.0         ford     f 450       NaN          NaN   \n",
       "\n",
       "     fuel  odometer title_status transmission                vin drive  \\\n",
       "0     gas   28500.0        clean    automatic  3N1CP5CUXJL535638   fwd   \n",
       "1     gas  116646.0        clean    automatic                NaN   4wd   \n",
       "2     gas       NaN        clean       manual                NaN   NaN   \n",
       "3     gas  153355.0        clean    automatic  1GKKRSED9BJ216419   NaN   \n",
       "5  diesel       NaN        clean    automatic                NaN   NaN   \n",
       "\n",
       "        size    type paint_color  \\\n",
       "0        NaN     NaN        grey   \n",
       "1  full-size  pickup       white   \n",
       "2        NaN     NaN         NaN   \n",
       "3        NaN     NaN         NaN   \n",
       "5        NaN     NaN         NaN   \n",
       "\n",
       "                                         description  \n",
       "0  2018 Nissan Kicks SV for sale. Asking $20,000 ...  \n",
       "1  COME AND CHECK OUT THIS 2014 FORD F-150 WITH: ...  \n",
       "2  Kalamazoo Online Auction - Wednesday, February...  \n",
       "3  WE HAVE OVER 500 VEHICLES IN STOCK!   See our ...  \n",
       "5  PHOENIX TRUXX (Truck Country) Vehicle Descript...  "
      ]
     },
     "execution_count": 15,
     "metadata": {},
     "output_type": "execute_result"
    }
   ],
   "source": [
    "car_data_dup=car_data_dup[(car_data_dup.year<=2020) & (car_data_dup.year>=2000) & (car_data_dup.price>=100) & (car_data_dup.price<=150000)]\n",
    "car_data_dup.head(5)"
   ]
  },
  {
   "cell_type": "markdown",
   "metadata": {},
   "source": [
    "# Checking for missing values in each column"
   ]
  },
  {
   "cell_type": "code",
   "execution_count": 16,
   "metadata": {},
   "outputs": [
    {
     "data": {
      "text/plain": [
       "region             0\n",
       "price              0\n",
       "year               0\n",
       "manufacturer     419\n",
       "model            156\n",
       "condition       5784\n",
       "cylinders       4878\n",
       "fuel              60\n",
       "odometer        2120\n",
       "title_status      31\n",
       "transmission      51\n",
       "vin             5561\n",
       "drive           3193\n",
       "size            8291\n",
       "type            3482\n",
       "paint_color     3915\n",
       "description        0\n",
       "dtype: int64"
      ]
     },
     "execution_count": 16,
     "metadata": {},
     "output_type": "execute_result"
    }
   ],
   "source": [
    "car_data_dup.isnull().sum()"
   ]
  },
  {
   "cell_type": "markdown",
   "metadata": {},
   "source": [
    "# Remove rows having 'all' missing values"
   ]
  },
  {
   "cell_type": "code",
   "execution_count": 17,
   "metadata": {},
   "outputs": [
    {
     "data": {
      "text/plain": [
       "region             0\n",
       "price              0\n",
       "year               0\n",
       "manufacturer     419\n",
       "model            156\n",
       "condition       5784\n",
       "cylinders       4878\n",
       "fuel              60\n",
       "odometer        2120\n",
       "title_status      31\n",
       "transmission      51\n",
       "vin             5561\n",
       "drive           3193\n",
       "size            8291\n",
       "type            3482\n",
       "paint_color     3915\n",
       "description        0\n",
       "dtype: int64"
      ]
     },
     "execution_count": 17,
     "metadata": {},
     "output_type": "execute_result"
    }
   ],
   "source": [
    "car_data_dup.dropna(axis=0,how='all',inplace=True)\n",
    "car_data_dup.isnull().sum()"
   ]
  },
  {
   "cell_type": "markdown",
   "metadata": {},
   "source": [
    "# Remove rows having 'any' missing values"
   ]
  },
  {
   "cell_type": "code",
   "execution_count": 18,
   "metadata": {},
   "outputs": [
    {
     "data": {
      "text/plain": [
       "region          0\n",
       "price           0\n",
       "year            0\n",
       "manufacturer    0\n",
       "model           0\n",
       "condition       0\n",
       "cylinders       0\n",
       "fuel            0\n",
       "odometer        0\n",
       "title_status    0\n",
       "transmission    0\n",
       "vin             0\n",
       "drive           0\n",
       "size            0\n",
       "type            0\n",
       "paint_color     0\n",
       "description     0\n",
       "dtype: int64"
      ]
     },
     "execution_count": 18,
     "metadata": {},
     "output_type": "execute_result"
    }
   ],
   "source": [
    "car_data_dup.dropna(axis=0,how='any',inplace=True)\n",
    "car_data_dup.isnull().sum()"
   ]
  },
  {
   "cell_type": "markdown",
   "metadata": {},
   "source": [
    "# Check for datatype of dataset and datatype of each column of dataset"
   ]
  },
  {
   "cell_type": "code",
   "execution_count": 19,
   "metadata": {},
   "outputs": [
    {
     "name": "stdout",
     "output_type": "stream",
     "text": [
      "<class 'pandas.core.frame.DataFrame'>\n"
     ]
    },
    {
     "data": {
      "text/plain": [
       "region           object\n",
       "price             int64\n",
       "year            float64\n",
       "manufacturer     object\n",
       "model            object\n",
       "condition        object\n",
       "cylinders        object\n",
       "fuel             object\n",
       "odometer        float64\n",
       "title_status     object\n",
       "transmission     object\n",
       "vin              object\n",
       "drive            object\n",
       "size             object\n",
       "type             object\n",
       "paint_color      object\n",
       "description      object\n",
       "dtype: object"
      ]
     },
     "execution_count": 19,
     "metadata": {},
     "output_type": "execute_result"
    }
   ],
   "source": [
    "print(type(car_data_dup))\n",
    "car_data_dup.dtypes\n",
    "#data type for each element"
   ]
  },
  {
   "cell_type": "code",
   "execution_count": 20,
   "metadata": {},
   "outputs": [],
   "source": [
    "%matplotlib inline"
   ]
  },
  {
   "cell_type": "markdown",
   "metadata": {},
   "source": [
    "# Formatting your Data – making data types compaitable with other data types"
   ]
  },
  {
   "cell_type": "code",
   "execution_count": 22,
   "metadata": {},
   "outputs": [
    {
     "name": "stdout",
     "output_type": "stream",
     "text": [
      "model\n",
      "silverado 1500      49\n",
      "f-150               43\n",
      "1500                33\n",
      "silverado 2500hd    28\n",
      "2500                22\n",
      "Name: model, dtype: int64\n"
     ]
    },
    {
     "data": {
      "image/png": "[encoded data removed]",
      "text/plain": [
       "<Figure size 360x216 with 1 Axes>"
      ]
     },
     "metadata": {
      "needs_background": "light"
     },
     "output_type": "display_data"
    },
    {
     "name": "stdout",
     "output_type": "stream",
     "text": [
      "manufacturer\n",
      "ford         317\n",
      "chevrolet    277\n",
      "toyota       111\n",
      "ram           91\n",
      "gmc           82\n",
      "Name: manufacturer, dtype: int64\n"
     ]
    },
    {
     "data": {
      "image/png": "[encoded data removed]",
      "text/plain": [
       "<Figure size 360x216 with 1 Axes>"
      ]
     },
     "metadata": {
      "needs_background": "light"
     },
     "output_type": "display_data"
    },
    {
     "name": "stdout",
     "output_type": "stream",
     "text": [
      "type\n",
      "truck     433\n",
      "SUV       400\n",
      "sedan     375\n",
      "pickup     96\n",
      "van        57\n",
      "Name: type, dtype: int64\n"
     ]
    },
    {
     "data": {
      "image/png": "[encoded data removed]",
      "text/plain": [
       "<Figure size 360x216 with 1 Axes>"
      ]
     },
     "metadata": {
      "needs_background": "light"
     },
     "output_type": "display_data"
    },
    {
     "name": "stdout",
     "output_type": "stream",
     "text": [
      "fuel\n",
      "gas         1411\n",
      "diesel       137\n",
      "hybrid        16\n",
      "other          2\n",
      "electric       1\n",
      "Name: fuel, dtype: int64\n"
     ]
    },
    {
     "data": {
      "image/png": "[encoded data removed]",
      "text/plain": [
       "<Figure size 360x216 with 1 Axes>"
      ]
     },
     "metadata": {
      "needs_background": "light"
     },
     "output_type": "display_data"
    },
    {
     "name": "stdout",
     "output_type": "stream",
     "text": [
      "year\n",
      "2013.0    146\n",
      "2015.0    127\n",
      "2012.0    120\n",
      "2014.0    117\n",
      "2008.0    104\n",
      "Name: year, dtype: int64\n"
     ]
    },
    {
     "data": {
      "image/png": "[encoded data removed]",
      "text/plain": [
       "<Figure size 360x216 with 1 Axes>"
      ]
     },
     "metadata": {
      "needs_background": "light"
     },
     "output_type": "display_data"
    },
    {
     "name": "stdout",
     "output_type": "stream",
     "text": [
      "region\n",
      "austin                  207\n",
      "albuquerque             140\n",
      "appleton-oshkosh-FDL    140\n",
      "green bay               111\n",
      "albany                   88\n",
      "Name: region, dtype: int64\n"
     ]
    },
    {
     "data": {
      "image/png": "[encoded data removed]",
      "text/plain": [
       "<Figure size 360x216 with 1 Axes>"
      ]
     },
     "metadata": {
      "needs_background": "light"
     },
     "output_type": "display_data"
    },
    {
     "name": "stdout",
     "output_type": "stream",
     "text": [
      "cylinders\n",
      "8 cylinders     538\n",
      "6 cylinders     515\n",
      "4 cylinders     477\n",
      "10 cylinders     19\n",
      "5 cylinders      16\n",
      "Name: cylinders, dtype: int64\n"
     ]
    },
    {
     "data": {
      "image/png": "[encoded data removed]",
      "text/plain": [
       "<Figure size 360x216 with 1 Axes>"
      ]
     },
     "metadata": {
      "needs_background": "light"
     },
     "output_type": "display_data"
    },
    {
     "name": "stdout",
     "output_type": "stream",
     "text": [
      "size\n",
      "full-size      886\n",
      "mid-size       449\n",
      "compact        202\n",
      "sub-compact     30\n",
      "Name: size, dtype: int64\n"
     ]
    },
    {
     "data": {
      "image/png": "[encoded data removed]",
      "text/plain": [
       "<Figure size 360x216 with 1 Axes>"
      ]
     },
     "metadata": {
      "needs_background": "light"
     },
     "output_type": "display_data"
    }
   ],
   "source": [
    "categories = [ 'model', 'manufacturer', 'type', 'fuel','year','region','cylinders','size']\n",
    "for i, c in enumerate(categories):\n",
    "    v = car_data_dup[c].unique()\n",
    "    g = car_data_dup.groupby(by=c)[c].count().sort_values(ascending=False)\n",
    "    r = range(min(len(v), 5))\n",
    "    print( g.head())\n",
    "    plt.figure(figsize=(5,3))\n",
    "    plt.bar(r, g.head()) \n",
    "    plt.xticks(r, g.index)\n",
    "    plt.show()"
   ]
  },
  {
   "cell_type": "code",
   "execution_count": 23,
   "metadata": {},
   "outputs": [
    {
     "name": "stdout",
     "output_type": "stream",
     "text": [
      "model\n",
      "silverado 1500      49\n",
      "f-150               43\n",
      "1500                33\n",
      "silverado 2500hd    28\n",
      "2500                22\n",
      "Name: model, dtype: int64\n"
     ]
    },
    {
     "data": {
      "image/png": "[encoded data removed]",
      "text/plain": [
       "<Figure size 360x216 with 1 Axes>"
      ]
     },
     "metadata": {
      "needs_background": "light"
     },
     "output_type": "display_data"
    },
    {
     "name": "stdout",
     "output_type": "stream",
     "text": [
      "manufacturer\n",
      "ford         317\n",
      "chevrolet    277\n",
      "toyota       111\n",
      "ram           91\n",
      "gmc           82\n",
      "Name: manufacturer, dtype: int64\n"
     ]
    },
    {
     "data": {
      "image/png": "[encoded data removed]",
      "text/plain": [
       "<Figure size 360x216 with 1 Axes>"
      ]
     },
     "metadata": {
      "needs_background": "light"
     },
     "output_type": "display_data"
    },
    {
     "name": "stdout",
     "output_type": "stream",
     "text": [
      "type\n",
      "truck     433\n",
      "SUV       400\n",
      "sedan     375\n",
      "pickup     96\n",
      "van        57\n",
      "Name: type, dtype: int64\n"
     ]
    },
    {
     "data": {
      "image/png": "[encoded data removed]",
      "text/plain": [
       "<Figure size 360x216 with 1 Axes>"
      ]
     },
     "metadata": {
      "needs_background": "light"
     },
     "output_type": "display_data"
    },
    {
     "name": "stdout",
     "output_type": "stream",
     "text": [
      "fuel\n",
      "gas         1411\n",
      "diesel       137\n",
      "hybrid        16\n",
      "other          2\n",
      "electric       1\n",
      "Name: fuel, dtype: int64\n"
     ]
    },
    {
     "data": {
      "image/png": "[encoded data removed]",
      "text/plain": [
       "<Figure size 360x216 with 1 Axes>"
      ]
     },
     "metadata": {
      "needs_background": "light"
     },
     "output_type": "display_data"
    },
    {
     "name": "stdout",
     "output_type": "stream",
     "text": [
      "year\n",
      "2013.0    146\n",
      "2015.0    127\n",
      "2012.0    120\n",
      "2014.0    117\n",
      "2008.0    104\n",
      "Name: year, dtype: int64\n"
     ]
    },
    {
     "data": {
      "image/png": "[encoded data removed]",
      "text/plain": [
       "<Figure size 360x216 with 1 Axes>"
      ]
     },
     "metadata": {
      "needs_background": "light"
     },
     "output_type": "display_data"
    },
    {
     "name": "stdout",
     "output_type": "stream",
     "text": [
      "region\n",
      "austin                  207\n",
      "albuquerque             140\n",
      "appleton-oshkosh-FDL    140\n",
      "green bay               111\n",
      "albany                   88\n",
      "Name: region, dtype: int64\n"
     ]
    },
    {
     "data": {
      "image/png": "[encoded data removed]",
      "text/plain": [
       "<Figure size 360x216 with 1 Axes>"
      ]
     },
     "metadata": {
      "needs_background": "light"
     },
     "output_type": "display_data"
    },
    {
     "name": "stdout",
     "output_type": "stream",
     "text": [
      "cylinders\n",
      "8 cylinders     538\n",
      "6 cylinders     515\n",
      "4 cylinders     477\n",
      "10 cylinders     19\n",
      "5 cylinders      16\n",
      "Name: cylinders, dtype: int64\n"
     ]
    },
    {
     "data": {
      "image/png": "[encoded data removed]",
      "text/plain": [
       "<Figure size 360x216 with 1 Axes>"
      ]
     },
     "metadata": {
      "needs_background": "light"
     },
     "output_type": "display_data"
    },
    {
     "name": "stdout",
     "output_type": "stream",
     "text": [
      "size\n",
      "full-size      886\n",
      "mid-size       449\n",
      "compact        202\n",
      "sub-compact     30\n",
      "Name: size, dtype: int64\n"
     ]
    },
    {
     "data": {
      "image/png": "[encoded data removed]",
      "text/plain": [
       "<Figure size 360x216 with 1 Axes>"
      ]
     },
     "metadata": {
      "needs_background": "light"
     },
     "output_type": "display_data"
    }
   ],
   "source": [
    "categories = [ 'model', 'manufacturer', 'type', 'fuel','year','region','cylinders','size']\n",
    "for i, c in enumerate(categories):\n",
    "    v = car_data_dup[c].unique()\n",
    "    g = car_data_dup.groupby(by=c)[c].count().sort_values(ascending=False)\n",
    "    r = range(min(len(v), 5))\n",
    "    print( g.head())\n",
    "    plt.figure(figsize=(5,3))\n",
    "    plt.scatter(r, g.head()) \n",
    "    plt.xticks(r, g.index)\n",
    "    plt.show()"
   ]
  },
  {
   "cell_type": "code",
   "execution_count": null,
   "metadata": {},
   "outputs": [],
   "source": []
  }
 ],
 "metadata": {
  "kernelspec": {
   "display_name": "Python 3",
   "language": "python",
   "name": "python3"
  },
  "language_info": {
   "codemirror_mode": {
    "name": "ipython",
    "version": 3
   },
   "file_extension": ".py",
   "mimetype": "text/x-python",
   "name": "python",
   "nbconvert_exporter": "python",
   "pygments_lexer": "ipython3",
   "version": "3.7.6"
  }
 },
 "nbformat": 4,
 "nbformat_minor": 4
}
